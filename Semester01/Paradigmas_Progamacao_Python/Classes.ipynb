{
 "cells": [
  {
   "cell_type": "markdown",
   "id": "d7915da2",
   "metadata": {},
   "source": [
    "# Linguagens de Programação: Python\n",
    "\n",
    "## Orientação à Objetos\n",
    "\n",
    "### Classes:\n",
    "\n",
    "``` Python\n",
    "class Conta:\n",
    "  pass # Palavra reservada que indica que tudo será definido posteriormente\n",
    "```\n",
    "\n",
    "#### Exemplo de Agregação:"
   ]
  },
  {
   "cell_type": "code",
   "execution_count": 1,
   "id": "6beaa93c",
   "metadata": {},
   "outputs": [],
   "source": [
    "# Classe Salário\n",
    "class Salario:\n",
    "    def __init__(self, base, bonus):\n",
    "      self.base = base\n",
    "      self.bonus = bonus\n",
    "\n",
    "    def salario_anual(self):\n",
    "      return (self.base * 12) + self.bonus"
   ]
  },
  {
   "cell_type": "code",
   "execution_count": 2,
   "id": "b71841f2",
   "metadata": {},
   "outputs": [],
   "source": [
    "# Classe Empregado\n",
    "class Empregado:\n",
    "  def __init__(self, nome, idade, salario):\n",
    "    self.nome = nome\n",
    "    self.idade = idade\n",
    "    self.salario_agregado = salario\n",
    "  \n",
    "  def salario_total(self):\n",
    "    return self.salario_agregado.salario_anual()"
   ]
  },
  {
   "cell_type": "code",
   "execution_count": 3,
   "id": "819b02f7",
   "metadata": {},
   "outputs": [
    {
     "name": "stdout",
     "output_type": "stream",
     "text": [
      "120700\n"
     ]
    }
   ],
   "source": [
    "# Main\n",
    "salario = Salario(10000, 700)\n",
    "empregado = Empregado('Musashi', 46, salario)\n",
    "print(empregado.salario_total())"
   ]
  },
  {
   "cell_type": "markdown",
   "id": "2e163975",
   "metadata": {},
   "source": [
    "### Método de Classe X Método Estático"
   ]
  },
  {
   "cell_type": "code",
   "execution_count": 4,
   "id": "e2d4146e",
   "metadata": {},
   "outputs": [
    {
     "name": "stdout",
     "output_type": "stream",
     "text": [
      "26\n",
      "17\n",
      "False\n"
     ]
    }
   ],
   "source": [
    "from datetime import date\n",
    "class Pessoa:\n",
    "    def __init__(self, nome, idade):\n",
    "        self.nome = nome\n",
    "        self.idade = idade\n",
    "        # Um método de classe para criar um objeto Pessoa através de seu ano de nascimento\n",
    "        \n",
    "    @classmethod\n",
    "    def a_partir_ano_nascimento(cls, nome, ano):\n",
    "        return cls(nome, date.today().year - ano)\n",
    "    # Método Estático para verificar se é maior de idade\n",
    "        \n",
    "    @staticmethod\n",
    "    def eh_maior_idade(idade):\n",
    "        return idade >=18\n",
    "pessoa1 = Pessoa('Maria', 26)\n",
    "pessoa2 = Pessoa.a_partir_ano_nascimento('Ana', 2006)\n",
    "\n",
    "print(pessoa1.idade)\n",
    "print(pessoa2.idade)\n",
    "# Imprime o resultado \n",
    "\n",
    "print(Pessoa.eh_maior_idade(17))"
   ]
  },
  {
   "cell_type": "code",
   "execution_count": null,
   "id": "e85932ed",
   "metadata": {},
   "outputs": [],
   "source": []
  }
 ],
 "metadata": {
  "kernelspec": {
   "display_name": "Python 3 (ipykernel)",
   "language": "python",
   "name": "python3"
  },
  "language_info": {
   "codemirror_mode": {
    "name": "ipython",
    "version": 3
   },
   "file_extension": ".py",
   "mimetype": "text/x-python",
   "name": "python",
   "nbconvert_exporter": "python",
   "pygments_lexer": "ipython3",
   "version": "3.9.13"
  }
 },
 "nbformat": 4,
 "nbformat_minor": 5
}
