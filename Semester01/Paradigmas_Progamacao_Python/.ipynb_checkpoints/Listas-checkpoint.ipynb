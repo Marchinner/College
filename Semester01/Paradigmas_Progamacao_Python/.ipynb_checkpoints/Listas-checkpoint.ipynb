{
 "cells": [
  {
   "cell_type": "markdown",
   "id": "73c8d8c2",
   "metadata": {},
   "source": [
    "# Listas"
   ]
  },
  {
   "cell_type": "markdown",
   "id": "10f52393",
   "metadata": {},
   "source": [
    "São os Arrays em Python e são dinâmicas, também aceitando qualquer tipo de dado."
   ]
  },
  {
   "cell_type": "markdown",
   "id": "b3e8f1d4",
   "metadata": {},
   "source": [
    "Em Java por exemplo, se você criar um Array to tipo int com tamanho 5, ele sempre vai ser desse jeito."
   ]
  },
  {
   "cell_type": "markdown",
   "id": "452894de",
   "metadata": {},
   "source": [
    "Exemplos de listas:"
   ]
  },
  {
   "cell_type": "code",
   "execution_count": 7,
   "id": "430dc31f",
   "metadata": {},
   "outputs": [],
   "source": [
    "lista1 = [1, 2, 3, 4, 5]"
   ]
  },
  {
   "cell_type": "code",
   "execution_count": 3,
   "id": "5ed4a3d3",
   "metadata": {},
   "outputs": [],
   "source": [
    "lista2 = ['a', 'b', 'c', 'd', 'e']"
   ]
  },
  {
   "cell_type": "code",
   "execution_count": 2,
   "id": "fc940b39",
   "metadata": {},
   "outputs": [],
   "source": [
    "lista3 = [\"Felipe\", \"Bezerra\", \"Freitas\"]"
   ]
  },
  {
   "cell_type": "code",
   "execution_count": 5,
   "id": "008f337d",
   "metadata": {},
   "outputs": [
    {
     "name": "stdout",
     "output_type": "stream",
     "text": [
      "[1, 2, 3, 4, 5] ['a', 'b', 'c', 'd', 'e'] ['Felipe', 'Bezerra', 'Freitas']\n"
     ]
    }
   ],
   "source": [
    "print(lista1, lista2, lista3)"
   ]
  },
  {
   "cell_type": "markdown",
   "id": "5747fc0b",
   "metadata": {},
   "source": [
    "**Verificando se existe um valor em uma lista**"
   ]
  },
  {
   "cell_type": "code",
   "execution_count": 8,
   "id": "868c54a8",
   "metadata": {},
   "outputs": [
    {
     "name": "stdout",
     "output_type": "stream",
     "text": [
      "Encontrei!\n"
     ]
    }
   ],
   "source": [
    "if \"Felipe\" in lista3:\n",
    "    print(\"Encontrei!\")\n",
    "else:\n",
    "    print (\"Não encontrei!\")"
   ]
  },
  {
   "cell_type": "code",
   "execution_count": 10,
   "id": "e49b3a7b",
   "metadata": {},
   "outputs": [
    {
     "name": "stdout",
     "output_type": "stream",
     "text": [
      "Encontrei!\n"
     ]
    }
   ],
   "source": [
    "if 3 in lista1:\n",
    "    print(\"Encontrei!\")\n",
    "else:\n",
    "    print (\"Não encontrei!\")"
   ]
  },
  {
   "cell_type": "markdown",
   "id": "7acd2247",
   "metadata": {},
   "source": [
    "**Podemos verificar todos os métodos disponíveis para realizar com uma lista usando o dir()**"
   ]
  },
  {
   "cell_type": "code",
   "execution_count": null,
   "id": "85a8e3a7",
   "metadata": {},
   "outputs": [],
   "source": []
  }
 ],
 "metadata": {
  "kernelspec": {
   "display_name": "Python 3 (ipykernel)",
   "language": "python",
   "name": "python3"
  },
  "language_info": {
   "codemirror_mode": {
    "name": "ipython",
    "version": 3
   },
   "file_extension": ".py",
   "mimetype": "text/x-python",
   "name": "python",
   "nbconvert_exporter": "python",
   "pygments_lexer": "ipython3",
   "version": "3.9.13"
  }
 },
 "nbformat": 4,
 "nbformat_minor": 5
}
